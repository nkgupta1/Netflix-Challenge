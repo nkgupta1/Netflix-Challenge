{
 "cells": [
  {
   "cell_type": "code",
   "execution_count": 1,
   "metadata": {
    "collapsed": true
   },
   "outputs": [],
   "source": [
    "import pandas as pd\n",
    "import numpy as np\n",
    "import time"
   ]
  },
  {
   "cell_type": "code",
   "execution_count": 2,
   "metadata": {
    "collapsed": true
   },
   "outputs": [],
   "source": [
    "df = pd.read_csv('../../../um/base_all.dta', delim_whitespace=True, header=None, \n",
    "                 names=['user', 'movie', 'time', 'rating'])"
   ]
  },
  {
   "cell_type": "code",
   "execution_count": 3,
   "metadata": {
    "collapsed": true
   },
   "outputs": [],
   "source": [
    "movie_ratings = df.groupby('movie').size()\n",
    "user_ratings = df.groupby('user').size()\n",
    "\n",
    "# get the top_q\n",
    "Q = 500\n",
    "top_q = (user_ratings.sort_values()[-500:])[::-1]"
   ]
  },
  {
   "cell_type": "code",
   "execution_count": 4,
   "metadata": {
    "collapsed": true
   },
   "outputs": [],
   "source": [
    "def calc_pearson(rating1, rating2):\n",
    "    if (len(rating1) == 0):\n",
    "        return 0;\n",
    "    \n",
    "    sum1 = np.sum(rating1)\n",
    "    sum2 = np.sum(rating2)\n",
    "    size = float(len(rating1))\n",
    "    sumpr = np.sum(rating1*rating2)\n",
    "    sumsq1 = np.sum(rating1*rating1)\n",
    "    sumsq2 = np.sum(rating2*rating2)\n",
    "    \n",
    "    numerator = sumpr - (sum1*sum2)/size\n",
    "    denom = np.sqrt(float((sumsq1 - sum1*sum1/size)*(sumsq2 - sum2*sum2/size)))\n",
    "    \n",
    "    return (numerator/denom)    "
   ]
  },
  {
   "cell_type": "code",
   "execution_count": 37,
   "metadata": {},
   "outputs": [
    {
     "name": "stdout",
     "output_type": "stream",
     "text": [
      "0.311856031418\n"
     ]
    }
   ],
   "source": [
    "start = time.time()\n",
    "user1 = df[df['user']==1]\n",
    "user2 = df[df['user']==2]\n",
    "intersection = np.array(list(set(user1['movie']).intersection(set(user2['movie']))))\n",
    "rating1 = np.array(user1[user1['movie'].isin(intersection)]['rating'])\n",
    "rating2 = np.array(user2[user2['movie'].isin(intersection)]['rating'])\n",
    "\n",
    "# if (len(rating1) == 0):\n",
    "#     return 0\n",
    "pearson = calc_pearson(rating1, rating2)\n",
    "print(time.time() - start)"
   ]
  },
  {
   "cell_type": "code",
   "execution_count": 15,
   "metadata": {},
   "outputs": [],
   "source": [
    "user = 1\n",
    "movie = 13833\n",
    "#for q_user in top_q:\n",
    "    #print (df[df['movie']==13833])\n"
   ]
  },
  {
   "cell_type": "code",
   "execution_count": 35,
   "metadata": {},
   "outputs": [
    {
     "name": "stdout",
     "output_type": "stream",
     "text": [
      "0.31055688858\n"
     ]
    }
   ],
   "source": [
    "start = time.time()\n",
    "user1 = df[df['user']==1]\n",
    "user2 = df[df['user']==2]\n",
    "intersection = pd.merge(user1,user2, on=['movie'])[['movie', 'rating_x', 'rating_y']]\n",
    "rating1 = intersection['rating_x']\n",
    "rating2 = intersection['rating_y']\n",
    "\n",
    "# if (len(rating1) == 0):\n",
    "#     return 0\n",
    "pearson = calc_pearson(rating1, rating2)\n",
    "print(time.time() - start)\n"
   ]
  },
  {
   "cell_type": "code",
   "execution_count": null,
   "metadata": {
    "collapsed": true
   },
   "outputs": [],
   "source": []
  },
  {
   "cell_type": "code",
   "execution_count": null,
   "metadata": {
    "collapsed": true
   },
   "outputs": [],
   "source": []
  },
  {
   "cell_type": "code",
   "execution_count": null,
   "metadata": {
    "collapsed": true
   },
   "outputs": [],
   "source": []
  },
  {
   "cell_type": "code",
   "execution_count": null,
   "metadata": {
    "collapsed": true
   },
   "outputs": [],
   "source": []
  },
  {
   "cell_type": "code",
   "execution_count": 6,
   "metadata": {},
   "outputs": [
    {
     "data": {
      "text/plain": [
       "21762386"
      ]
     },
     "execution_count": 6,
     "metadata": {},
     "output_type": "execute_result"
    }
   ],
   "source": [
    "len(df[df['rating']>8])"
   ]
  },
  {
   "cell_type": "code",
   "execution_count": 7,
   "metadata": {},
   "outputs": [
    {
     "data": {
      "text/plain": [
       "94362233"
      ]
     },
     "execution_count": 7,
     "metadata": {},
     "output_type": "execute_result"
    }
   ],
   "source": [
    "len(df)"
   ]
  },
  {
   "cell_type": "code",
   "execution_count": null,
   "metadata": {
    "collapsed": true
   },
   "outputs": [],
   "source": [
    "df[df['rating']>1000]"
   ]
  },
  {
   "cell_type": "code",
   "execution_count": 8,
   "metadata": {},
   "outputs": [
    {
     "data": {
      "text/plain": [
       "0.23062601750850895"
      ]
     },
     "execution_count": 8,
     "metadata": {},
     "output_type": "execute_result"
    }
   ],
   "source": [
    "21762386/float(94362233)"
   ]
  },
  {
   "cell_type": "code",
   "execution_count": null,
   "metadata": {
    "collapsed": true
   },
   "outputs": [],
   "source": [
    "rating - movie_avg - user_avg + global_avg"
   ]
  },
  {
   "cell_type": "code",
   "execution_count": null,
   "metadata": {
    "collapsed": true
   },
   "outputs": [],
   "source": []
  },
  {
   "cell_type": "code",
   "execution_count": null,
   "metadata": {
    "collapsed": true
   },
   "outputs": [],
   "source": []
  },
  {
   "cell_type": "code",
   "execution_count": null,
   "metadata": {
    "collapsed": true
   },
   "outputs": [],
   "source": []
  }
 ],
 "metadata": {
  "kernelspec": {
   "display_name": "Python 2",
   "language": "python",
   "name": "python2"
  },
  "language_info": {
   "codemirror_mode": {
    "name": "ipython",
    "version": 2
   },
   "file_extension": ".py",
   "mimetype": "text/x-python",
   "name": "python",
   "nbconvert_exporter": "python",
   "pygments_lexer": "ipython2",
   "version": "2.7.12"
  }
 },
 "nbformat": 4,
 "nbformat_minor": 2
}
